{
 "cells": [
  {
   "cell_type": "markdown",
   "id": "bafb515b",
   "metadata": {},
   "source": [
    "# Document Splitting"
   ]
  },
  {
   "cell_type": "code",
   "execution_count": 1,
   "id": "1f9ad2a1-2c8e-471e-8174-338cf2e3e92d",
   "metadata": {
    "height": 166,
    "tags": []
   },
   "outputs": [],
   "source": [
    "import os\n",
    "import openai\n",
    "import sys\n",
    "sys.path.append('../..')\n",
    "\n",
    "from dotenv import load_dotenv, find_dotenv\n",
    "_ = load_dotenv(find_dotenv()) # read local .env file\n",
    "\n",
    "openai.api_key  = os.environ['OPENAI_API_KEY']"
   ]
  },
  {
   "cell_type": "code",
   "execution_count": 2,
   "id": "06ea702c",
   "metadata": {
    "height": 30,
    "tags": []
   },
   "outputs": [],
   "source": [
    "from langchain.text_splitter import RecursiveCharacterTextSplitter, CharacterTextSplitter"
   ]
  },
  {
   "cell_type": "code",
   "execution_count": 3,
   "id": "2d587fb0",
   "metadata": {
    "height": 47,
    "tags": []
   },
   "outputs": [],
   "source": [
    "chunk_size =26 # relative small chunk\n",
    "chunk_overlap = 4"
   ]
  },
  {
   "cell_type": "code",
   "execution_count": 4,
   "id": "2723bf02",
   "metadata": {
    "height": 149,
    "tags": []
   },
   "outputs": [],
   "source": [
    "r_splitter = RecursiveCharacterTextSplitter(\n",
    "    chunk_size=chunk_size,\n",
    "    chunk_overlap=chunk_overlap\n",
    ")\n",
    "c_splitter = CharacterTextSplitter(\n",
    "    chunk_size=chunk_size,\n",
    "    chunk_overlap=chunk_overlap\n",
    ")"
   ]
  },
  {
   "cell_type": "markdown",
   "id": "a61167fc",
   "metadata": {},
   "source": [
    "Why doesn't this split the string below?"
   ]
  },
  {
   "cell_type": "code",
   "execution_count": 5,
   "id": "dd21401b",
   "metadata": {
    "height": 47,
    "tags": []
   },
   "outputs": [
    {
     "name": "stdout",
     "output_type": "stream",
     "text": [
      "26\n"
     ]
    }
   ],
   "source": [
    "text1 = 'abcdefghijklmnopqrstuvwxyz'\n",
    "print(len(text1))"
   ]
  },
  {
   "cell_type": "code",
   "execution_count": 6,
   "id": "fa92a860",
   "metadata": {
    "height": 30,
    "tags": []
   },
   "outputs": [
    {
     "data": {
      "text/plain": [
       "['abcdefghijklmnopqrstuvwxyz']"
      ]
     },
     "execution_count": 6,
     "metadata": {},
     "output_type": "execute_result"
    }
   ],
   "source": [
    "r_splitter.split_text(text1) # no need to split as chunk_size = 26"
   ]
  },
  {
   "cell_type": "code",
   "execution_count": 7,
   "id": "8b5da0f9",
   "metadata": {
    "height": 30,
    "tags": []
   },
   "outputs": [],
   "source": [
    "text2 = 'abcdefghijklmnopqrstuvwxyzabcdefg'"
   ]
  },
  {
   "cell_type": "code",
   "execution_count": 8,
   "id": "4ea0d456",
   "metadata": {
    "height": 30,
    "tags": []
   },
   "outputs": [
    {
     "data": {
      "text/plain": [
       "['abcdefghijklmnopqrstuvwxyz', 'wxyzabcdefg']"
      ]
     },
     "execution_count": 8,
     "metadata": {},
     "output_type": "execute_result"
    }
   ],
   "source": [
    "r_splitter.split_text(text2)"
   ]
  },
  {
   "cell_type": "markdown",
   "id": "87200022",
   "metadata": {},
   "source": [
    "Two different chunks are splitted, and there is an overlap specified in the second chunk as 5 '**wxyz**abcdefg'"
   ]
  },
  {
   "cell_type": "code",
   "execution_count": 9,
   "id": "dce39d64",
   "metadata": {
    "height": 30,
    "tags": []
   },
   "outputs": [],
   "source": [
    "text3 = \"a b c d e f g h i j k l m n o p q r s t u v w x y z\""
   ]
  },
  {
   "cell_type": "code",
   "execution_count": 10,
   "id": "d96c0ab9",
   "metadata": {
    "height": 30,
    "tags": []
   },
   "outputs": [
    {
     "data": {
      "text/plain": [
       "['a b c d e f g h i j k l m', 'l m n o p q r s t u v w x', 'w x y z']"
      ]
     },
     "execution_count": 10,
     "metadata": {},
     "output_type": "execute_result"
    }
   ],
   "source": [
    "r_splitter.split_text(text3)"
   ]
  },
  {
   "cell_type": "code",
   "execution_count": 11,
   "id": "ec009c75",
   "metadata": {
    "height": 30
   },
   "outputs": [
    {
     "data": {
      "text/plain": [
       "['Ngay hom nay rat dep,', 'tieng   chim hot liu lo', 'lo tren canh cay']"
      ]
     },
     "execution_count": 11,
     "metadata": {},
     "output_type": "execute_result"
    }
   ],
   "source": [
    "r_splitter.split_text(\"Ngay hom nay rat dep, tieng   chim hot liu lo tren canh cay\")"
   ]
  },
  {
   "cell_type": "code",
   "execution_count": 12,
   "id": "0dbea42c",
   "metadata": {
    "height": 30,
    "tags": []
   },
   "outputs": [
    {
     "data": {
      "text/plain": [
       "['a b c d e f g h i j k l m n o p q r s t u v w x y z']"
      ]
     },
     "execution_count": 12,
     "metadata": {},
     "output_type": "execute_result"
    }
   ],
   "source": [
    "c_splitter.split_text(text3)"
   ]
  },
  {
   "cell_type": "code",
   "execution_count": 13,
   "id": "63e71644",
   "metadata": {
    "height": 115,
    "tags": []
   },
   "outputs": [
    {
     "data": {
      "text/plain": [
       "['a b c d e f g h i j k l m', 'l m n o p q r s t u v w x', 'w x y z']"
      ]
     },
     "execution_count": 13,
     "metadata": {},
     "output_type": "execute_result"
    }
   ],
   "source": [
    "c_splitter = CharacterTextSplitter(\n",
    "    chunk_size=chunk_size,\n",
    "    chunk_overlap=chunk_overlap,\n",
    "    separator = ' '\n",
    ")\n",
    "c_splitter.split_text(text3)"
   ]
  },
  {
   "cell_type": "markdown",
   "id": "c1a4d0ed",
   "metadata": {},
   "source": [
    "## Recursive splitting details\n",
    "\n",
    "`RecursiveCharacterTextSplitter` is recommended for generic text. "
   ]
  },
  {
   "cell_type": "code",
   "execution_count": 14,
   "id": "96926a42-92e6-4ad4-9946-908a075fb32d",
   "metadata": {
    "height": 132,
    "tags": []
   },
   "outputs": [],
   "source": [
    "some_text = \"\"\"When writing documents, writers will use document structure to group content. \\\n",
    "This can convey to the reader, which idea's are related. For example, closely related ideas \\\n",
    "are in sentances. Similar ideas are in paragraphs. Paragraphs form a document. \\n\\n  \\\n",
    "Paragraphs are often delimited with a carriage return or two carriage returns. \\\n",
    "Carriage returns are the \"backslash n\" you see embedded in this string. \\\n",
    "Sentences have a period at the end, but also, have a space.\\\n",
    "and words are separated by space.\"\"\""
   ]
  },
  {
   "cell_type": "code",
   "execution_count": 15,
   "id": "18706d73",
   "metadata": {
    "height": 30,
    "tags": []
   },
   "outputs": [
    {
     "data": {
      "text/plain": [
       "496"
      ]
     },
     "execution_count": 15,
     "metadata": {},
     "output_type": "execute_result"
    }
   ],
   "source": [
    "len(some_text)"
   ]
  },
  {
   "cell_type": "code",
   "execution_count": 16,
   "id": "e2aa01e2",
   "metadata": {
    "height": 64
   },
   "outputs": [],
   "source": [
    "def display_chunk(chunks):\n",
    "    for idx, chunk in enumerate(chunks):\n",
    "        print(f\"[Chunk {idx}]: '{chunk}'\\n\")"
   ]
  },
  {
   "cell_type": "code",
   "execution_count": 17,
   "id": "5083a172-ba0a-4d9f-b561-18f0d2e6d9ce",
   "metadata": {
    "height": 183,
    "tags": []
   },
   "outputs": [],
   "source": [
    "c_splitter = CharacterTextSplitter(\n",
    "    chunk_size=450,\n",
    "    chunk_overlap=0,\n",
    "    separator = ' '\n",
    ")\n",
    "r_splitter = RecursiveCharacterTextSplitter(\n",
    "    chunk_size=450,\n",
    "    chunk_overlap=0, \n",
    "    separators=[\"\\n\\n\", \"\\n\", \" \", \"\"] # specify the separator\n",
    ")"
   ]
  },
  {
   "cell_type": "code",
   "execution_count": 18,
   "id": "7f8aa4ed-5347-4819-b3c1-d15696832a65",
   "metadata": {
    "height": 30,
    "tags": []
   },
   "outputs": [
    {
     "name": "stdout",
     "output_type": "stream",
     "text": [
      "[Chunk 0]: 'When writing documents, writers will use document structure to group content. This can convey to the reader, which idea's are related. For example, closely related ideas are in sentances. Similar ideas are in paragraphs. Paragraphs form a document. \n",
      "\n",
      " Paragraphs are often delimited with a carriage return or two carriage returns. Carriage returns are the \"backslash n\" you see embedded in this string. Sentences have a period at the end, but also,'\n",
      "\n",
      "[Chunk 1]: 'have a space.and words are separated by space.'\n",
      "\n"
     ]
    }
   ],
   "source": [
    "display_chunk(c_splitter.split_text(some_text))"
   ]
  },
  {
   "cell_type": "code",
   "execution_count": 19,
   "id": "6af907f2-4110-4e40-a831-593f8592bd83",
   "metadata": {
    "height": 30,
    "tags": []
   },
   "outputs": [
    {
     "name": "stdout",
     "output_type": "stream",
     "text": [
      "[Chunk 0]: 'When writing documents, writers will use document structure to group content. This can convey to the reader, which idea's are related. For example, closely related ideas are in sentances. Similar ideas are in paragraphs. Paragraphs form a document.'\n",
      "\n",
      "[Chunk 1]: 'Paragraphs are often delimited with a carriage return or two carriage returns. Carriage returns are the \"backslash n\" you see embedded in this string. Sentences have a period at the end, but also, have a space.and words are separated by space.'\n",
      "\n"
     ]
    }
   ],
   "source": [
    "display_chunk(r_splitter.split_text(some_text))"
   ]
  },
  {
   "cell_type": "markdown",
   "id": "3b3720ef-2a97-4e0f-a2da-660b274b2f00",
   "metadata": {
    "tags": []
   },
   "source": [
    "Let's reduce the chunk size a bit and add a period to our separators:"
   ]
  },
  {
   "cell_type": "code",
   "execution_count": 20,
   "id": "1e5496ea-d34e-4ed9-8f68-9dadd86e8da7",
   "metadata": {
    "height": 115,
    "tags": []
   },
   "outputs": [
    {
     "name": "stdout",
     "output_type": "stream",
     "text": [
      "[Chunk 0]: 'When writing documents, writers will use document structure to group content. This can convey to the reader, which idea's are related'\n",
      "\n",
      "[Chunk 1]: '. For example, closely related ideas are in sentances. Similar ideas are in paragraphs. Paragraphs form a document.'\n",
      "\n",
      "[Chunk 2]: 'Paragraphs are often delimited with a carriage return or two carriage returns'\n",
      "\n",
      "[Chunk 3]: '. Carriage returns are the \"backslash n\" you see embedded in this string'\n",
      "\n",
      "[Chunk 4]: '. Sentences have a period at the end, but also, have a space.and words are separated by space.'\n",
      "\n"
     ]
    }
   ],
   "source": [
    "r_splitter = RecursiveCharacterTextSplitter(\n",
    "    chunk_size=150,\n",
    "    chunk_overlap=0,\n",
    "    separators=[\"\\n\\n\", \"\\n\", \"\\. \", \" \", \"\"]\n",
    ")\n",
    "display_chunk(r_splitter.split_text(some_text))"
   ]
  },
  {
   "cell_type": "code",
   "execution_count": 21,
   "id": "31da7561",
   "metadata": {
    "height": 115,
    "tags": []
   },
   "outputs": [
    {
     "name": "stdout",
     "output_type": "stream",
     "text": [
      "[Chunk 0]: 'When writing documents, writers will use document structure to group content. This can convey to the reader, which idea's are related.'\n",
      "\n",
      "[Chunk 1]: 'For example, closely related ideas are in sentances. Similar ideas are in paragraphs. Paragraphs form a document.'\n",
      "\n",
      "[Chunk 2]: 'Paragraphs are often delimited with a carriage return or two carriage returns.'\n",
      "\n",
      "[Chunk 3]: 'Carriage returns are the \"backslash n\" you see embedded in this string.'\n",
      "\n",
      "[Chunk 4]: 'Sentences have a period at the end, but also, have a space.and words are separated by space.'\n",
      "\n"
     ]
    }
   ],
   "source": [
    "r_splitter = RecursiveCharacterTextSplitter(\n",
    "    chunk_size=150,\n",
    "    chunk_overlap=0,\n",
    "    separators=[\"\\n\\n\", \"\\n\", \"(?<=\\. )\", \" \", \"\"]\n",
    ")\n",
    "display_chunk(r_splitter.split_text(some_text))"
   ]
  },
  {
   "cell_type": "code",
   "execution_count": 22,
   "id": "a469e07d",
   "metadata": {
    "height": 64,
    "tags": []
   },
   "outputs": [],
   "source": [
    "from langchain.document_loaders import PyPDFLoader\n"
   ]
  },
  {
   "cell_type": "code",
   "execution_count": 23,
   "id": "bba6f05d",
   "metadata": {
    "height": 132,
    "tags": []
   },
   "outputs": [],
   "source": [
    "from langchain.text_splitter import CharacterTextSplitter\n",
    "text_splitter = CharacterTextSplitter(\n",
    "    separator=\"\\n\",\n",
    "    chunk_size=1000,\n",
    "    chunk_overlap=150,\n",
    "    length_function=len\n",
    ")"
   ]
  },
  {
   "cell_type": "code",
   "execution_count": 49,
   "id": "4168f87c",
   "metadata": {
    "height": 64
   },
   "outputs": [
    {
     "data": {
      "text/plain": [
       "22"
      ]
     },
     "execution_count": 49,
     "metadata": {},
     "output_type": "execute_result"
    }
   ],
   "source": [
    "loader = PyPDFLoader(\"docs/cs229_lectures/MachineLearning-Lecture01.pdf\")\n",
    "pages = loader.load()\n",
    "len(pages)"
   ]
  },
  {
   "cell_type": "code",
   "execution_count": 24,
   "id": "c752a663-896b-4a24-9ffb-7640642b7a3f",
   "metadata": {
    "height": 30,
    "tags": []
   },
   "outputs": [],
   "source": [
    "docs = text_splitter.split_documents(pages)"
   ]
  },
  {
   "cell_type": "code",
   "execution_count": 54,
   "id": "7474a52c",
   "metadata": {
    "height": 30,
    "tags": []
   },
   "outputs": [
    {
     "data": {
      "text/plain": [
       "(52, langchain.schema.Document)"
      ]
     },
     "execution_count": 54,
     "metadata": {},
     "output_type": "execute_result"
    }
   ],
   "source": [
    "len(docs), type(docs[0])"
   ]
  },
  {
   "cell_type": "code",
   "execution_count": 53,
   "id": "84d90d67",
   "metadata": {
    "height": 30
   },
   "outputs": [
    {
     "name": "stdout",
     "output_type": "stream",
     "text": [
      "[Chunk 0]: '# Blendle's Employee Handbook\n",
      "\n",
      "This is a living document with everything we've learned working with people while running a startup. And, of course, we continue to learn. Therefore it's a document that will continue to change. \n",
      "\n",
      "**Everything related to working at Blendle and the people of Blendle, made public.**\n",
      "\n",
      "These are the lessons from three years of working with the people of Blendle. It contains everything from [how our leaders lead](https://www.notion.so/ecfb7e647136468a9a0a32f1771a8f52?pvs=21) to [how we increase salaries](https://www.notion.so/Salary-Review-e11b6161c6d34f5c9568bb3e83ed96b6?pvs=21), from [how we hire](https://www.notion.so/Hiring-451bbcfe8d9b49438c0633326bb7af0a?pvs=21) and [fire](https://www.notion.so/Firing-5567687a2000496b8412e53cd58eed9d?pvs=21) to [how we think people should give each other feedback](https://www.notion.so/Our-Feedback-Process-eb64f1de796b4350aeab3bc068e3801f?pvs=21) — and much more.\n",
      "\n",
      "We've made this document public because we want to learn from you. We're very much interested in your feedback (including weeding out typo's and Dunglish ;)). Email us at hr@blendle.com. If you're starting your own company or if you're curious as to how we do things at Blendle, we hope that our employee handbook inspires you.\n",
      "\n",
      "If you want to work at Blendle you can check our [job ads here](https://blendle.homerun.co/). If you want to be kept in the loop about Blendle, you can sign up for [our behind the scenes newsletter](https://blendle.homerun.co/yes-keep-me-posted/tr/apply?token=8092d4128c306003d97dd3821bad06f2).\n",
      "\n",
      "## Blendle general\n",
      "\n",
      "*Information gap closing in 3... 2... 1...*\n",
      "\n",
      "---\n",
      "\n",
      "[To Do/Read in your first week](Blendle's%20Employee%20Handbook%20e367aa77e225482c849111687e114a56/To%20Do%20Read%20in%20your%20first%20week%2017fbb01dc37b4118943b1db905cd57f2.md)\n",
      "\n",
      "[History](Blendle's%20Employee%20Handbook%20e367aa77e225482c849111687e114a56/History%20ac6441b1b7f7412796b072168db92fd2.md)\n",
      "\n",
      "[DNA & culture](Blendle's%20Employee%20Handbook%20e367aa77e225482c849111687e114a56/DNA%20&%20culture%20b5db7bb937384f809a81e84059050b3f.md)\n",
      "\n",
      "[General & practical ](Blendle's%20Employee%20Handbook%20e367aa77e225482c849111687e114a56/General%20&%20practical%20b8d9412f67c34a3e996bf4d3f390de5e.md)\n",
      "\n",
      "## People operations\n",
      "\n",
      "*You can tell a company's DNA by looking at how they deal with the practical stuff.*  \n",
      "\n",
      "---\n",
      "\n",
      "[Office](Blendle's%20Employee%20Handbook%20e367aa77e225482c849111687e114a56/Office%204e7a0f0ad8e34c50bba69cfd9f779038.md)\n",
      "\n",
      "[Time off: holidays and national holidays](Blendle's%20Employee%20Handbook%20e367aa77e225482c849111687e114a56/Time%20off%20holidays%20and%20national%20holidays%20b1b4abd60ae547e8b4088818da9e92e7.md)\n",
      "\n",
      "[Calling in sick/better](Blendle's%20Employee%20Handbook%20e367aa77e225482c849111687e114a56/Calling%20in%20sick%20better%204337662f835a4a00933b76b254758bc4.md)\n",
      "\n",
      "[Perks and benefits](Blendle's%20Employee%20Handbook%20e367aa77e225482c849111687e114a56/Perks%20and%20benefits%206b81f8a3deb5408a8385472cd797a3f7.md)\n",
      "\n",
      "[Travel costs and reimbursements](Blendle's%20Employee%20Handbook%20e367aa77e225482c849111687e114a56/Travel%20costs%20and%20reimbursements%204df295267aa74fe1a7fa1361571b6fbc.md)\n",
      "\n",
      "[Parenthood](Blendle's%20Employee%20Handbook%20e367aa77e225482c849111687e114a56/Parenthood%208cd588eff0984cdd983a9eea420c9e76.md)\n",
      "\n",
      "## People topics\n",
      "\n",
      "*Themes we care about.*\n",
      "\n",
      "---\n",
      "\n",
      "[Blendle Social Code](Blendle's%20Employee%20Handbook%20e367aa77e225482c849111687e114a56/Blendle%20Social%20Code%20d10a41a7746c4bd2ab4c3fe6db803f69.md)\n",
      "\n",
      "[Diversity and inclusion](Blendle's%20Employee%20Handbook%20e367aa77e225482c849111687e114a56/Diversity%20and%20inclusion%20dbd07fc1bf0849019f3f3ed242190055.md)\n",
      "\n",
      "[#letstalkaboutstress](Blendle's%20Employee%20Handbook%20e367aa77e225482c849111687e114a56/#letstalkaboutstress%20b814c542d1744bbb83bf7e1d63e4bdda.md)\n",
      "\n",
      "## Feedback and development\n",
      "\n",
      "*The number 1 reason for people to work at Blendle is growth and learning from smart people.*\n",
      "\n",
      "---\n",
      "\n",
      "[Your 1st month ](Blendle's%20Employee%20Handbook%20e367aa77e225482c849111687e114a56/Your%201st%20month%20c6f4af5517c84d4087e635587961fb0e.md)\n",
      "\n",
      "[Goals](Blendle's%20Employee%20Handbook%20e367aa77e225482c849111687e114a56/Goals%207258fc51173d42a79621ef9b3851e719.md)\n",
      "\n",
      "[Feedback cycle](Blendle's%20Employee%20Handbook%20e367aa77e225482c849111687e114a56/Feedback%20cycle%20e838f6e605064170bb0611f538915cb7.md)\n",
      "\n",
      "[The Matrix™ (job profiles)](Blendle's%20Employee%20Handbook%20e367aa77e225482c849111687e114a56/The%20Matrix%E2%84%A2%20(job%20profiles)%20df18f2beab014a7e89f442d0e459ad73.md)\n",
      "\n",
      "[Blendle library](Blendle's%20Employee%20Handbook%20e367aa77e225482c849111687e114a56/Blendle%20library%2064396b41895842d680d118f4ec17d346.md)\n",
      "\n",
      "## **Hiring**\n",
      "\n",
      "*The coolest and most impactful thing when done right.*\n",
      "\n",
      "---\n",
      "\n",
      "[Rating systems](Blendle's%20Employee%20Handbook%20e367aa77e225482c849111687e114a56/Rating%20systems%20036cb477bab342349ff0ceb54ab21478.md)\n",
      "\n",
      "[Getting people in (branding&sourcing)](Blendle's%20Employee%20Handbook%20e367aa77e225482c849111687e114a56/Getting%20people%20in%20(branding&sourcing)%20e050e6613efe4305b98d6b7b8c8916a3.md)\n",
      "\n",
      "[Highly Skilled Migrants and relocation](Blendle's%20Employee%20Handbook%20e367aa77e225482c849111687e114a56/Highly%20Skilled%20Migrants%20and%20relocation%204c00141c18fd472fb5770891381b65e2.md)\n",
      "\n",
      "## How to lead at Blendle\n",
      "\n",
      "*Here are some tips and tools to help you become a great leader.*\n",
      "\n",
      "---\n",
      "\n",
      "[How to lead at Blendle ](Blendle's%20Employee%20Handbook%20e367aa77e225482c849111687e114a56/How%20to%20lead%20at%20Blendle%20404698936d274095856523c94c396a62.md)\n",
      "\n",
      "[Your check-list](Blendle's%20Employee%20Handbook%20e367aa77e225482c849111687e114a56/Your%20check-list%2007455ff3b1364229bfc1ae3462e58030.md)\n",
      "\n",
      "[Leading Feedback ](Blendle's%20Employee%20Handbook%20e367aa77e225482c849111687e114a56/Leading%20Feedback%209ad2513f7ea14b7a8d2762db7c0b70c0.md)\n",
      "\n",
      "[Salary talks](Blendle's%20Employee%20Handbook%20e367aa77e225482c849111687e114a56/Salary%20talks%203c0befca9272403a8a045cace8686d8d.md)\n",
      "\n",
      "[Hiring ](Blendle's%20Employee%20Handbook%20e367aa77e225482c849111687e114a56/Hiring%208c7049f20ed74df982f8e05bc3dca30b.md)\n",
      "\n",
      "[Firing](Blendle's%20Employee%20Handbook%20e367aa77e225482c849111687e114a56/Firing%200a07fff173404adebf98ea7ef3a8eb7d.md)\n",
      "\n",
      "[Party and study budget](Blendle's%20Employee%20Handbook%20e367aa77e225482c849111687e114a56/Party%20and%20study%20budget%2049f8b0f9dfbf45ea8ed15dd11c99e28d.md)\n",
      "\n",
      "[Holidays](Blendle's%20Employee%20Handbook%20e367aa77e225482c849111687e114a56/Holidays%20629b666201b9416684d1d36ce6c63713.md)\n",
      "\n",
      "[Sickness absence](Blendle's%20Employee%20Handbook%20e367aa77e225482c849111687e114a56/Sickness%20absence%2075f3765b7698473aa45171b909ff1e65.md)\n",
      "\n",
      "[Personal User Guide](Blendle's%20Employee%20Handbook%20e367aa77e225482c849111687e114a56/Personal%20User%20Guide%2097a8516bc2cd44b7a565798e954a68a3.md)\n",
      "\n",
      "[Soft shizzle](Blendle's%20Employee%20Handbook%20e367aa77e225482c849111687e114a56/Soft%20shizzle%207c03996eeb634b12ad9093839cd11bde.md)\n",
      "\n",
      "## About this document\n",
      "\n",
      "---\n",
      "\n",
      "*Lessons from three years of HR*\n",
      "\n",
      "[About this document and the author](Blendle's%20Employee%20Handbook%20e367aa77e225482c849111687e114a56/About%20this%20document%20and%20the%20author%208c7a88f91b1d479ea729a6f47ef56d0c.md)'\n",
      "\n",
      "[Chunk 1]: '# #letstalkaboutstress\n",
      "\n",
      "Let’s talk about stress. Too much stress. \n",
      "\n",
      "We know this can be a topic.\n",
      "\n",
      "So let’s get this conversation going. \n",
      "\n",
      "[Intro: two things you should know](#letstalkaboutstress%20b814c542d1744bbb83bf7e1d63e4bdda/Intro%20two%20things%20you%20should%20know%20e1bddd67170346d18fa7e5054114eab3.md)\n",
      "\n",
      "[What is stress](#letstalkaboutstress%20b814c542d1744bbb83bf7e1d63e4bdda/What%20is%20stress%20269d3274c7e042fdb57c307c0f046f52.md)\n",
      "\n",
      "[When is there too much stress?](#letstalkaboutstress%20b814c542d1744bbb83bf7e1d63e4bdda/When%20is%20there%20too%20much%20stress%203a100360163b4a6f9c75b54a670f28aa.md)\n",
      "\n",
      "[What can I do](#letstalkaboutstress%20b814c542d1744bbb83bf7e1d63e4bdda/What%20can%20I%20do%2048a6dc9fc2c74a848a983d13108ffe45.md)\n",
      "\n",
      "[What can Blendle do?](#letstalkaboutstress%20b814c542d1744bbb83bf7e1d63e4bdda/What%20can%20Blendle%20do%20f1ad1ffb4eeb4fa48ae3bf89aa4b200a.md)\n",
      "\n",
      "[Good reads](#letstalkaboutstress%20b814c542d1744bbb83bf7e1d63e4bdda/Good%20reads%20a39698f6b87a420884e32eb0d126d33e.md)\n",
      "\n",
      "Go to **#letstalkaboutstress** on slack to chat about this topic\n",
      "\n",
      "# Work at Blendle\n",
      "\n",
      "---\n",
      "\n",
      "If you want to work at Blendle you can check our [job ads here](https://blendle.homerun.co/). If you want to be kept in the loop about Blendle, you can sign up for [our behind the scenes newsletter](https://blendle.homerun.co/yes-keep-me-posted/tr/apply?token=8092d4128c306003d97dd3821bad06f2).'\n",
      "\n",
      "[Chunk 2]: '# About this document and the author\n",
      "\n",
      "A lot of startups (and companies that have existed for a longer time) deal with the same questions when it comes to managing people. How do you get the most out of people while being a great employer? How do you deal with performance reviews, salary changes, learning and development, recruitment, giving and getting feedback, hiring and firing?\n",
      "\n",
      "Blendle has a mission to make quality journalism more accessible. In the last three years, we've built the HR operation at Blendle from scratch. We've tried to answer the most pressing questions. We learned through trial and error.\n",
      "\n",
      "It has struck me how little information companies share publicly about their people operations. We would all gain a lot by being more open about what works well and what doesn't.\n",
      "\n",
      "That's why we decided to make Blendle's Employee Handbook publicly accessible. You can find the result of three years of hard work here.\n",
      "\n",
      "When I pressed 'publish public' I got a sense of why there is so little practical information about this topic out there. It's pretty scary to just publish it. So, here's an instant disclaimer: this is a living document, it's not perfect and we'll improve it. Still, I hope that more companies will press the 'publish public'-button. I hope that *together* we can take the concept of 'working' to the next level. So: have fun reading. Copy as much as you'd like. And please provide us with feedback at hr@blendle.com\n",
      "\n",
      "## About the author\n",
      "\n",
      "Roland Grootenboer was Blendle's first HR lead. In August 2018 he quit his job to travel the world in a van (we're all jealous of course). \n",
      "\n",
      "You can reach Roland directly at **mail@rolandgrootenboer.nl,** follow him via [**Twitter**](https://twitter.com/rmgrootenboer), **[Linkedin,](https://www.linkedin.com/in/rolandgrootenboer/) [Medium](https://medium.com/@rologrootenboer)** or subscribe to his **[Revue](https://www.getrevue.co/profile/rolandgrootenboer)**.\n",
      "\n",
      "[https://www.youtube.com/watch?v=KKWOzzkXB9A](https://www.youtube.com/watch?v=KKWOzzkXB9A)'\n",
      "\n",
      "[Chunk 3]: '# Blendle Social Code\n",
      "\n",
      "**We want you to feel safe, happy, free and able to express yourself authentically at Blendle. We won’t tolerate any form of bad behaviour, racism or (sexual) harassment. If any of this is happening (or you have the slightest feeling of discomfort), please speak up. We’ll support you. If you don’t feel comfortable talking to any of us, you can talk to our [confidential counsellor](https://www.notion.so/ceb925ba799f4dcab14bee5af3ffc0b8?pvs=21) (not a public link) at any time.**\n",
      "\n",
      "This part of our handbook describes our social code in more detail. This social code describes what is acceptable and unacceptable behaviour when working at Blendle and the steps we will take to restore the values when someone violates them.\n",
      "\n",
      "We were inspired after reading [this example from Workable](https://resources.workable.com/employee-code-of-conduct-company-policy) and used that as a starting point for this document.\n",
      "\n",
      "**Why do we need this social code?**\n",
      "\n",
      "By setting out our code our goal is to make sure it is crystal clear what is OK and what’s not. It is a starting point for healthy discussions, and we hope to support any feeling of mistreatment with it.\n",
      "\n",
      "**Our social code**\n",
      "\n",
      "We expect you to foster a well-organised, respectful and collaborative environment. You should avoid offending, participating in heated altercations and disrupting our workplace. We will not tolerate anyone intimidating, pestering, humiliating, victimizing or sabotaging others at Blendle. We also prohibit wilful discrimination based on age, sexual orientation, gender, ethnicity, race, religion or disability. This is by no means an exhaustive list but it gives an indication, use your common sense. You should also conform to [our inclusion and diversity policy](https://www.notion.so/Diversity-and-Inclusion-b6c7664bac98442fa0de7a0026ab95ea?pvs=21) in all aspects of your work, from recruitment and performance reviews to interpersonal relations. In general: ‘Do unto others as you would have them do unto you’.\n",
      "\n",
      "This code applies to all employees, contractors, public visitors, customers and anyone else at Blendle with whom you come into contact.\n",
      "\n",
      "[Addressing harassment](Blendle%20Social%20Code%20d10a41a7746c4bd2ab4c3fe6db803f69/Addressing%20harassment%205993ba93da31440e9103eae05ffa8050.md)\n",
      "\n",
      "[Sexual harassment](Blendle%20Social%20Code%20d10a41a7746c4bd2ab4c3fe6db803f69/Sexual%20harassment%206d35f409ba3d4663a3ec4b7042efb423.md)\n",
      "\n",
      "[General disciplinary measures](Blendle%20Social%20Code%20d10a41a7746c4bd2ab4c3fe6db803f69/General%20disciplinary%20measures%20a447988365ed4805be04c0aca61a433f.md)\n",
      "\n",
      "Good reads:\n",
      "\n",
      "[How to Talk About Sexual Harassment](https://leanin.org/meeting-guides/how-to-talk-about-sexual-harassment)\n",
      "\n",
      "We were inspired after reading this example from Workable and used that as a starting point for this document.\n",
      "\n",
      "[Employee Code of Conduct Company Policy Template](https://resources.workable.com/employee-code-of-conduct-company-policy)'\n",
      "\n",
      "[Chunk 4]: '# Blendle library\n",
      "\n",
      "There is so. much. good. stuff out there. The Blendle library is a virtual and physical place to share good reads/listens/watches. \n",
      "\n",
      "Let your inner nerd out!\n",
      "\n",
      "- **The physical library(tje)**\n",
      "    \n",
      "    We’ve got 4 shelves reserved next to the LINDA for good books to share and loan. As you can see we have a lot of room, so feel free to come up with suggestions on what books to buy or bring a book you want to share. We have two 'empty' sections, so go ahead and fill them if you want to. \n",
      "    \n",
      "- **The virtual library**\n",
      "    \n",
      "    Again, there is so much good stuff out there. The virtual library is a way to not let it go to waste and share good stuff we see online.\n",
      "    \n",
      "    Here is how it works: you read, hear, watch something great: share and recommend it here. The other way around: you get to see what your colleagues read and can be inspired by it.\n",
      "    \n",
      "    If you are on [Goodreads](https://www.goodreads.com/), you could also join the private [Blendle group](https://www.goodreads.com/group/show/159991-blendle) (requires approval of one of the group moderators).\n",
      "    \n",
      "     \n",
      "    \n",
      "    - **Podcasts**\n",
      "    - **Leadership**\n",
      "        \n",
      "        [](https://www.intercom.com/blog/motivate-your-star-performers-with-meaningful-career-conversations/?utm_source=feedburner&utm_medium=feed&utm_campaign=Feed%3A+contrast%2Fblog+%28Inside+Intercom%29)\n",
      "        \n",
      "    - **People operations (HR)**\n",
      "        \n",
      "        ['Disrupt Yourself Podcast with Whitney Johnson' van Whitney Johnson op Apple Podcasts](https://itunes.apple.com/nl/podcast/disrupt-yourself-podcast-with-whitney-johnson/id1156483471?mt=2&i=1000406162408)\n",
      "        \n",
      "        [How We Support Remote Employees at DigitalOcean](https://blog.digitalocean.com/how-we-support-remote-employees-at-digitalocean/)\n",
      "        \n",
      "    \n",
      "\n",
      "# Work at Blendle\n",
      "\n",
      "---\n",
      "\n",
      "If you want to work at Blendle you can check our [job ads here](https://blendle.homerun.co/). If you want to be kept in the loop about Blendle, you can sign up for [our behind the scenes newsletter](https://blendle.homerun.co/yes-keep-me-posted/tr/apply?token=8092d4128c306003d97dd3821bad06f2).'\n",
      "\n"
     ]
    }
   ],
   "source": [
    "display_chunk([doc.page_content for doc in docs[:5]])"
   ]
  },
  {
   "cell_type": "code",
   "execution_count": 27,
   "id": "3a9e741c",
   "metadata": {
    "height": 64,
    "tags": []
   },
   "outputs": [],
   "source": [
    "from langchain.document_loaders import NotionDirectoryLoader\n",
    "loader = NotionDirectoryLoader(\"docs/Notion_DB\")\n",
    "notion_db = loader.load()"
   ]
  },
  {
   "cell_type": "code",
   "execution_count": 28,
   "id": "d30861d0-4370-49c1-a6fc-a924f9a171ee",
   "metadata": {
    "height": 30,
    "tags": []
   },
   "outputs": [],
   "source": [
    "docs = text_splitter.split_documents(notion_db)"
   ]
  },
  {
   "cell_type": "code",
   "execution_count": 29,
   "id": "39a59ff8",
   "metadata": {
    "height": 30,
    "tags": []
   },
   "outputs": [
    {
     "data": {
      "text/plain": [
       "52"
      ]
     },
     "execution_count": 29,
     "metadata": {},
     "output_type": "execute_result"
    }
   ],
   "source": [
    "len(notion_db)"
   ]
  },
  {
   "cell_type": "code",
   "execution_count": 30,
   "id": "73411cbd",
   "metadata": {
    "height": 30,
    "tags": []
   },
   "outputs": [
    {
     "data": {
      "text/plain": [
       "353"
      ]
     },
     "execution_count": 30,
     "metadata": {},
     "output_type": "execute_result"
    }
   ],
   "source": [
    "len(docs)"
   ]
  },
  {
   "cell_type": "markdown",
   "id": "68f720db",
   "metadata": {},
   "source": [
    "## Token splitting\n",
    "\n",
    "We can also split on token count explicity, if we want.\n",
    "\n",
    "This can be useful because LLMs often have context windows designated in tokens.\n",
    "\n",
    "Tokens are often ~4 characters."
   ]
  },
  {
   "cell_type": "code",
   "execution_count": 31,
   "id": "da0bcc05",
   "metadata": {
    "height": 30,
    "tags": []
   },
   "outputs": [],
   "source": [
    "from langchain.text_splitter import TokenTextSplitter"
   ]
  },
  {
   "cell_type": "code",
   "execution_count": 32,
   "id": "0116b01b-2b0b-47a7-a107-bbc497029713",
   "metadata": {
    "height": 30,
    "tags": []
   },
   "outputs": [],
   "source": [
    "text_splitter = TokenTextSplitter(chunk_size=1, chunk_overlap=0)"
   ]
  },
  {
   "cell_type": "code",
   "execution_count": 33,
   "id": "07a95e78",
   "metadata": {
    "height": 30,
    "tags": []
   },
   "outputs": [],
   "source": [
    "text1 = \"foo bar bazzyfoo\""
   ]
  },
  {
   "cell_type": "code",
   "execution_count": 34,
   "id": "8eec0912",
   "metadata": {
    "height": 30,
    "tags": []
   },
   "outputs": [
    {
     "data": {
      "text/plain": [
       "['foo', ' bar', ' b', 'az', 'zy', 'foo']"
      ]
     },
     "execution_count": 34,
     "metadata": {},
     "output_type": "execute_result"
    }
   ],
   "source": [
    "text_splitter.split_text(text1)"
   ]
  },
  {
   "cell_type": "code",
   "execution_count": 35,
   "id": "ffa29d43",
   "metadata": {
    "height": 30,
    "tags": []
   },
   "outputs": [],
   "source": [
    "text_splitter = TokenTextSplitter(chunk_size=10, chunk_overlap=0)"
   ]
  },
  {
   "cell_type": "code",
   "execution_count": 36,
   "id": "e53e203a",
   "metadata": {
    "height": 30,
    "tags": []
   },
   "outputs": [],
   "source": [
    "docs = text_splitter.split_documents(pages)"
   ]
  },
  {
   "cell_type": "code",
   "execution_count": 37,
   "id": "3b186c5f",
   "metadata": {
    "height": 30,
    "tags": []
   },
   "outputs": [
    {
     "data": {
      "text/plain": [
       "Document(page_content='MachineLearning-Lecture01  \\n', metadata={'source': 'docs/cs229_lectures/MachineLearning-Lecture01.pdf', 'page': 0})"
      ]
     },
     "execution_count": 37,
     "metadata": {},
     "output_type": "execute_result"
    }
   ],
   "source": [
    "docs[0]"
   ]
  },
  {
   "cell_type": "code",
   "execution_count": 38,
   "id": "917f7abc",
   "metadata": {
    "height": 30,
    "tags": []
   },
   "outputs": [
    {
     "data": {
      "text/plain": [
       "{'source': 'docs/cs229_lectures/MachineLearning-Lecture01.pdf', 'page': 0}"
      ]
     },
     "execution_count": 38,
     "metadata": {},
     "output_type": "execute_result"
    }
   ],
   "source": [
    "pages[0].metadata"
   ]
  },
  {
   "cell_type": "markdown",
   "id": "282d9bfa",
   "metadata": {},
   "source": [
    "## Context aware splitting\n",
    "\n",
    "Chunking aims to keep text with common context together.\n",
    "\n",
    "A text splitting often uses sentences or other delimiters to keep related text together but many documents (such as Markdown) have structure (headers) that can be explicitly used in splitting.\n",
    "\n",
    "We can use `MarkdownHeaderTextSplitter` to preserve header metadata in our chunks, as show below."
   ]
  },
  {
   "cell_type": "code",
   "execution_count": 39,
   "id": "aa3b93d9",
   "metadata": {
    "height": 47,
    "tags": []
   },
   "outputs": [],
   "source": [
    "from langchain.document_loaders import NotionDirectoryLoader\n",
    "from langchain.text_splitter import MarkdownHeaderTextSplitter"
   ]
  },
  {
   "cell_type": "code",
   "execution_count": 40,
   "id": "d2c73a9c",
   "metadata": {
    "height": 132,
    "tags": []
   },
   "outputs": [],
   "source": [
    "markdown_document = \"\"\"# Title\\n\\n \\\n",
    "## Chapter 1\\n\\n \\\n",
    "Hi this is Jim\\n\\n Hi this is Joe\\n\\n \\\n",
    "### Section \\n\\n \\\n",
    "Hi this is Lance \\n\\n \n",
    "## Chapter 2\\n\\n \\\n",
    "Hi this is Molly\"\"\""
   ]
  },
  {
   "cell_type": "code",
   "execution_count": 41,
   "id": "eadb7740",
   "metadata": {
    "height": 98,
    "tags": []
   },
   "outputs": [],
   "source": [
    "headers_to_split_on = [\n",
    "    (\"#\", \"Header 1\"),\n",
    "    (\"##\", \"Header 2\"),\n",
    "    (\"###\", \"Header 3\"),\n",
    "]"
   ]
  },
  {
   "cell_type": "code",
   "execution_count": 42,
   "id": "a789eede",
   "metadata": {
    "height": 81,
    "tags": []
   },
   "outputs": [],
   "source": [
    "markdown_splitter = MarkdownHeaderTextSplitter(\n",
    "    headers_to_split_on=headers_to_split_on\n",
    ")\n",
    "md_header_splits = markdown_splitter.split_text(markdown_document)"
   ]
  },
  {
   "cell_type": "code",
   "execution_count": 43,
   "id": "27053c17",
   "metadata": {
    "height": 30,
    "tags": []
   },
   "outputs": [
    {
     "data": {
      "text/plain": [
       "Document(page_content='Hi this is Jim  \\nHi this is Joe', metadata={'Header 1': 'Title', 'Header 2': 'Chapter 1'})"
      ]
     },
     "execution_count": 43,
     "metadata": {},
     "output_type": "execute_result"
    }
   ],
   "source": [
    "md_header_splits[0]"
   ]
  },
  {
   "cell_type": "code",
   "execution_count": 44,
   "id": "a5b6b903",
   "metadata": {
    "height": 30,
    "tags": []
   },
   "outputs": [
    {
     "data": {
      "text/plain": [
       "Document(page_content='Hi this is Lance', metadata={'Header 1': 'Title', 'Header 2': 'Chapter 1', 'Header 3': 'Section'})"
      ]
     },
     "execution_count": 44,
     "metadata": {},
     "output_type": "execute_result"
    }
   ],
   "source": [
    "md_header_splits[1]"
   ]
  },
  {
   "cell_type": "markdown",
   "id": "8d0c6111",
   "metadata": {},
   "source": [
    "Try on a real Markdown file, like a Notion database."
   ]
  },
  {
   "cell_type": "code",
   "execution_count": 45,
   "id": "b238b16f",
   "metadata": {
    "height": 64,
    "tags": []
   },
   "outputs": [],
   "source": [
    "loader = NotionDirectoryLoader(\"docs/Notion_DB\")\n",
    "docs = loader.load()\n",
    "txt = ' '.join([d.page_content for d in docs])"
   ]
  },
  {
   "cell_type": "code",
   "execution_count": 46,
   "id": "9fdab1d4",
   "metadata": {
    "height": 132,
    "tags": []
   },
   "outputs": [],
   "source": [
    "headers_to_split_on = [\n",
    "    (\"#\", \"Header 1\"),\n",
    "    (\"##\", \"Header 2\"),\n",
    "]\n",
    "markdown_splitter = MarkdownHeaderTextSplitter(\n",
    "    headers_to_split_on=headers_to_split_on\n",
    ")"
   ]
  },
  {
   "cell_type": "code",
   "execution_count": 47,
   "id": "e722c39c",
   "metadata": {
    "height": 30,
    "tags": []
   },
   "outputs": [],
   "source": [
    "md_header_splits = markdown_splitter.split_text(txt)"
   ]
  },
  {
   "cell_type": "code",
   "execution_count": 48,
   "id": "3f2b6df5",
   "metadata": {
    "height": 30,
    "tags": []
   },
   "outputs": [
    {
     "data": {
      "text/plain": [
       "Document(page_content=\"This is a living document with everything we've learned working with people while running a startup. And, of course, we continue to learn. Therefore it's a document that will continue to change.  \\n**Everything related to working at Blendle and the people of Blendle, made public.**  \\nThese are the lessons from three years of working with the people of Blendle. It contains everything from [how our leaders lead](https://www.notion.so/ecfb7e647136468a9a0a32f1771a8f52?pvs=21) to [how we increase salaries](https://www.notion.so/Salary-Review-e11b6161c6d34f5c9568bb3e83ed96b6?pvs=21), from [how we hire](https://www.notion.so/Hiring-451bbcfe8d9b49438c0633326bb7af0a?pvs=21) and [fire](https://www.notion.so/Firing-5567687a2000496b8412e53cd58eed9d?pvs=21) to [how we think people should give each other feedback](https://www.notion.so/Our-Feedback-Process-eb64f1de796b4350aeab3bc068e3801f?pvs=21) — and much more.  \\nWe've made this document public because we want to learn from you. We're very much interested in your feedback (including weeding out typo's and Dunglish ;)). Email us at hr@blendle.com. If you're starting your own company or if you're curious as to how we do things at Blendle, we hope that our employee handbook inspires you.  \\nIf you want to work at Blendle you can check our [job ads here](https://blendle.homerun.co/). If you want to be kept in the loop about Blendle, you can sign up for [our behind the scenes newsletter](https://blendle.homerun.co/yes-keep-me-posted/tr/apply?token=8092d4128c306003d97dd3821bad06f2).\", metadata={'Header 1': \"Blendle's Employee Handbook\"})"
      ]
     },
     "execution_count": 48,
     "metadata": {},
     "output_type": "execute_result"
    }
   ],
   "source": [
    "md_header_splits[0]"
   ]
  }
 ],
 "metadata": {
  "kernelspec": {
   "display_name": "Python 3 (ipykernel)",
   "language": "python",
   "name": "python3"
  },
  "language_info": {
   "codemirror_mode": {
    "name": "ipython",
    "version": 3
   },
   "file_extension": ".py",
   "mimetype": "text/x-python",
   "name": "python",
   "nbconvert_exporter": "python",
   "pygments_lexer": "ipython3",
   "version": "3.9.19"
  }
 },
 "nbformat": 4,
 "nbformat_minor": 5
}
